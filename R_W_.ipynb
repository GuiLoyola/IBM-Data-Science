{
 "cells": [
  {
   "cell_type": "code",
   "execution_count": 17,
   "metadata": {},
   "outputs": [
    {
     "name": "stdout",
     "output_type": "stream",
     "text": [
      "<class '_io.TextIOWrapper'>\n"
     ]
    }
   ],
   "source": [
    "caminho_arquivo = 'modos_abertura.txt'\n",
    "\n",
    "with open(caminho_arquivo, 'w', encoding='utf8') as arquivo:\n",
    "    print(type(arquivo)) # <class '_io.TextIOWrapper'>\n",
    "    arquivo.write('Atenção\\n')\n",
    "    arquivo.write('linha1\\n')\n",
    "    arquivo.write('Linha2\\n')\n",
    "    arquivo.writelines(\n",
    "        ('Linha3\\n', 'linha4\\n')\n",
    "\n",
    "    )\n",
    "    arquivo.writelines(('Linha5\\n', 'linha6\\n'))\n",
    "    "
   ]
  }
 ],
 "metadata": {
  "kernelspec": {
   "display_name": "base",
   "language": "python",
   "name": "python3"
  },
  "language_info": {
   "codemirror_mode": {
    "name": "ipython",
    "version": 3
   },
   "file_extension": ".py",
   "mimetype": "text/x-python",
   "name": "python",
   "nbconvert_exporter": "python",
   "pygments_lexer": "ipython3",
   "version": "3.11.7"
  }
 },
 "nbformat": 4,
 "nbformat_minor": 2
}
